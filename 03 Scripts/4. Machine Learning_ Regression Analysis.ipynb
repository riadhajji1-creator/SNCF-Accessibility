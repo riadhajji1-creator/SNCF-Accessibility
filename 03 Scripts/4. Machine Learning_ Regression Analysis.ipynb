{
 "cells": [
  {
   "cell_type": "code",
   "execution_count": 1,
   "metadata": {},
   "outputs": [],
   "source": [
    "#Import libraries\n",
    "import pandas as pd\n",
    "import numpy as np\n",
    "import seaborn as sns\n",
    "import matplotlib\n",
    "import matplotlib.pyplot as plt\n",
    "import os\n",
    "import sklearn\n",
    "from sklearn.model_selection import train_test_split \n",
    "from sklearn.linear_model import LinearRegression\n",
    "from sklearn.metrics import mean_squared_error, r2_score"
   ]
  },
  {
   "cell_type": "code",
   "execution_count": 2,
   "metadata": {},
   "outputs": [],
   "source": [
    "# This option ensures that the graphs you create are displayed within the notebook without the need to \"call\" them specifically.\n",
    "%matplotlib inline"
   ]
  },
  {
   "cell_type": "code",
   "execution_count": 3,
   "metadata": {},
   "outputs": [],
   "source": [
    "# Import file\n",
    "path = r'/Users/jorisjan/Documents/CareerFoundry/Assistance for disabled people in stations - Analysis'\n",
    "df = pd.read_pickle(os.path.join(path, '02 Data', 'Prepared Data', 'cleaned assistance.pkl'))"
   ]
  },
  {
   "cell_type": "markdown",
   "metadata": {},
   "source": [
    "### 2. Data cleaning"
   ]
  },
  {
   "cell_type": "code",
   "execution_count": 4,
   "metadata": {
    "scrolled": true
   },
   "outputs": [
    {
     "data": {
      "text/plain": [
       "Index(['year', 'station_code', 'station_name', 'region_sncf', 'departement',\n",
       "       'departement_code', 'zip_code', 'municipality', 'longitude', 'latitude',\n",
       "       'total_passengers_over_the_year', 'station_category', 'service_level',\n",
       "       'wheelchair_available_in_station', 'simple_assistance',\n",
       "       'ramp_assistance', 'wheelchair_assistance',\n",
       "       'ramp_and_wheelchair_assistance', 'total_assistance'],\n",
       "      dtype='object')"
      ]
     },
     "execution_count": 4,
     "metadata": {},
     "output_type": "execute_result"
    }
   ],
   "source": [
    "df.columns"
   ]
  },
  {
   "cell_type": "code",
   "execution_count": 5,
   "metadata": {
    "scrolled": true
   },
   "outputs": [
    {
     "data": {
      "text/html": [
       "<div>\n",
       "<style scoped>\n",
       "    .dataframe tbody tr th:only-of-type {\n",
       "        vertical-align: middle;\n",
       "    }\n",
       "\n",
       "    .dataframe tbody tr th {\n",
       "        vertical-align: top;\n",
       "    }\n",
       "\n",
       "    .dataframe thead th {\n",
       "        text-align: right;\n",
       "    }\n",
       "</style>\n",
       "<table border=\"1\" class=\"dataframe\">\n",
       "  <thead>\n",
       "    <tr style=\"text-align: right;\">\n",
       "      <th></th>\n",
       "      <th>year</th>\n",
       "      <th>station_code</th>\n",
       "      <th>station_name</th>\n",
       "      <th>region_sncf</th>\n",
       "      <th>departement</th>\n",
       "      <th>departement_code</th>\n",
       "      <th>zip_code</th>\n",
       "      <th>municipality</th>\n",
       "      <th>longitude</th>\n",
       "      <th>latitude</th>\n",
       "      <th>total_passengers_over_the_year</th>\n",
       "      <th>station_category</th>\n",
       "      <th>service_level</th>\n",
       "      <th>wheelchair_available_in_station</th>\n",
       "      <th>simple_assistance</th>\n",
       "      <th>ramp_assistance</th>\n",
       "      <th>wheelchair_assistance</th>\n",
       "      <th>ramp_and_wheelchair_assistance</th>\n",
       "      <th>total_assistance</th>\n",
       "    </tr>\n",
       "  </thead>\n",
       "  <tbody>\n",
       "    <tr>\n",
       "      <th>0</th>\n",
       "      <td>2015</td>\n",
       "      <td>87111849</td>\n",
       "      <td>Marne-la-Vallee Chessy</td>\n",
       "      <td>REGION DE PARIS-SUD-EST</td>\n",
       "      <td>Seine-et-Marne</td>\n",
       "      <td>77</td>\n",
       "      <td>77700</td>\n",
       "      <td>Chessy</td>\n",
       "      <td>2.782720</td>\n",
       "      <td>48.869856</td>\n",
       "      <td>5443822</td>\n",
       "      <td>3</td>\n",
       "      <td>1</td>\n",
       "      <td>1</td>\n",
       "      <td>3677</td>\n",
       "      <td>2081</td>\n",
       "      <td>78</td>\n",
       "      <td>9357</td>\n",
       "      <td>15193</td>\n",
       "    </tr>\n",
       "    <tr>\n",
       "      <th>1</th>\n",
       "      <td>2015</td>\n",
       "      <td>87113001</td>\n",
       "      <td>Paris Est</td>\n",
       "      <td>REGION DE PARIS-EST</td>\n",
       "      <td>Paris</td>\n",
       "      <td>75</td>\n",
       "      <td>75010</td>\n",
       "      <td>Paris</td>\n",
       "      <td>2.358424</td>\n",
       "      <td>48.876742</td>\n",
       "      <td>34919689</td>\n",
       "      <td>3</td>\n",
       "      <td>1</td>\n",
       "      <td>1</td>\n",
       "      <td>3610</td>\n",
       "      <td>2946</td>\n",
       "      <td>161</td>\n",
       "      <td>11133</td>\n",
       "      <td>17850</td>\n",
       "    </tr>\n",
       "    <tr>\n",
       "      <th>2</th>\n",
       "      <td>2015</td>\n",
       "      <td>87116582</td>\n",
       "      <td>Chateau-Thierry</td>\n",
       "      <td>REGION DE PARIS-EST</td>\n",
       "      <td>Aisne</td>\n",
       "      <td>02</td>\n",
       "      <td>02400</td>\n",
       "      <td>Chateau-Thierry</td>\n",
       "      <td>3.409514</td>\n",
       "      <td>49.038224</td>\n",
       "      <td>1924022</td>\n",
       "      <td>2</td>\n",
       "      <td>2</td>\n",
       "      <td>1</td>\n",
       "      <td>29</td>\n",
       "      <td>5</td>\n",
       "      <td>0</td>\n",
       "      <td>149</td>\n",
       "      <td>183</td>\n",
       "    </tr>\n",
       "    <tr>\n",
       "      <th>3</th>\n",
       "      <td>2015</td>\n",
       "      <td>87118000</td>\n",
       "      <td>Troyes</td>\n",
       "      <td>REGION CHAMPAGNE-ARDENNE</td>\n",
       "      <td>Aube</td>\n",
       "      <td>10</td>\n",
       "      <td>10014</td>\n",
       "      <td>Troyes</td>\n",
       "      <td>4.065281</td>\n",
       "      <td>48.296069</td>\n",
       "      <td>1001917</td>\n",
       "      <td>3</td>\n",
       "      <td>2</td>\n",
       "      <td>1</td>\n",
       "      <td>72</td>\n",
       "      <td>145</td>\n",
       "      <td>7</td>\n",
       "      <td>518</td>\n",
       "      <td>742</td>\n",
       "    </tr>\n",
       "    <tr>\n",
       "      <th>4</th>\n",
       "      <td>2015</td>\n",
       "      <td>87118158</td>\n",
       "      <td>Romilly-sur-Seine</td>\n",
       "      <td>REGION DE PARIS-EST</td>\n",
       "      <td>Aube</td>\n",
       "      <td>10</td>\n",
       "      <td>10100</td>\n",
       "      <td>Romilly-sur-Seine</td>\n",
       "      <td>3.728887</td>\n",
       "      <td>48.514433</td>\n",
       "      <td>306218</td>\n",
       "      <td>2</td>\n",
       "      <td>3</td>\n",
       "      <td>0</td>\n",
       "      <td>25</td>\n",
       "      <td>45</td>\n",
       "      <td>0</td>\n",
       "      <td>113</td>\n",
       "      <td>183</td>\n",
       "    </tr>\n",
       "    <tr>\n",
       "      <th>5</th>\n",
       "      <td>2015</td>\n",
       "      <td>87141002</td>\n",
       "      <td>Nancy</td>\n",
       "      <td>REGION LORRAINE</td>\n",
       "      <td>Meurthe-et-Moselle</td>\n",
       "      <td>54</td>\n",
       "      <td>54000</td>\n",
       "      <td>Nancy</td>\n",
       "      <td>6.174583</td>\n",
       "      <td>48.689861</td>\n",
       "      <td>7918088</td>\n",
       "      <td>3</td>\n",
       "      <td>1</td>\n",
       "      <td>1</td>\n",
       "      <td>3569</td>\n",
       "      <td>968</td>\n",
       "      <td>79</td>\n",
       "      <td>8651</td>\n",
       "      <td>13267</td>\n",
       "    </tr>\n",
       "    <tr>\n",
       "      <th>6</th>\n",
       "      <td>2015</td>\n",
       "      <td>87141044</td>\n",
       "      <td>Toul</td>\n",
       "      <td>REGION LORRAINE</td>\n",
       "      <td>Meurthe-et-Moselle</td>\n",
       "      <td>54</td>\n",
       "      <td>54200</td>\n",
       "      <td>Toul</td>\n",
       "      <td>5.880615</td>\n",
       "      <td>48.679018</td>\n",
       "      <td>232067</td>\n",
       "      <td>2</td>\n",
       "      <td>2</td>\n",
       "      <td>0</td>\n",
       "      <td>430</td>\n",
       "      <td>40</td>\n",
       "      <td>7</td>\n",
       "      <td>576</td>\n",
       "      <td>1053</td>\n",
       "    </tr>\n",
       "    <tr>\n",
       "      <th>7</th>\n",
       "      <td>2015</td>\n",
       "      <td>87141150</td>\n",
       "      <td>Luneville</td>\n",
       "      <td>REGION LORRAINE</td>\n",
       "      <td>Meurthe-et-Moselle</td>\n",
       "      <td>54</td>\n",
       "      <td>54300</td>\n",
       "      <td>Luneville</td>\n",
       "      <td>6.497270</td>\n",
       "      <td>48.588233</td>\n",
       "      <td>923786</td>\n",
       "      <td>2</td>\n",
       "      <td>2</td>\n",
       "      <td>0</td>\n",
       "      <td>87</td>\n",
       "      <td>28</td>\n",
       "      <td>3</td>\n",
       "      <td>255</td>\n",
       "      <td>373</td>\n",
       "    </tr>\n",
       "    <tr>\n",
       "      <th>8</th>\n",
       "      <td>2015</td>\n",
       "      <td>87141291</td>\n",
       "      <td>Neufchateau</td>\n",
       "      <td>REGION LORRAINE</td>\n",
       "      <td>Vosges</td>\n",
       "      <td>88</td>\n",
       "      <td>88300</td>\n",
       "      <td>Neufchateau</td>\n",
       "      <td>5.690402</td>\n",
       "      <td>48.358343</td>\n",
       "      <td>80707</td>\n",
       "      <td>1</td>\n",
       "      <td>3</td>\n",
       "      <td>0</td>\n",
       "      <td>13</td>\n",
       "      <td>23</td>\n",
       "      <td>0</td>\n",
       "      <td>189</td>\n",
       "      <td>225</td>\n",
       "    </tr>\n",
       "    <tr>\n",
       "      <th>9</th>\n",
       "      <td>2015</td>\n",
       "      <td>87141820</td>\n",
       "      <td>Pont-a-Mousson</td>\n",
       "      <td>REGION LORRAINE</td>\n",
       "      <td>Meurthe-et-Moselle</td>\n",
       "      <td>54</td>\n",
       "      <td>54700</td>\n",
       "      <td>Pont-a-Mousson</td>\n",
       "      <td>6.050842</td>\n",
       "      <td>48.900580</td>\n",
       "      <td>979424</td>\n",
       "      <td>2</td>\n",
       "      <td>3</td>\n",
       "      <td>0</td>\n",
       "      <td>280</td>\n",
       "      <td>5</td>\n",
       "      <td>2</td>\n",
       "      <td>367</td>\n",
       "      <td>654</td>\n",
       "    </tr>\n",
       "    <tr>\n",
       "      <th>10</th>\n",
       "      <td>2015</td>\n",
       "      <td>87142000</td>\n",
       "      <td>Chaumont</td>\n",
       "      <td>REGION CHAMPAGNE-ARDENNE</td>\n",
       "      <td>Haute-Marne</td>\n",
       "      <td>52</td>\n",
       "      <td>52000</td>\n",
       "      <td>Chaumont</td>\n",
       "      <td>5.134600</td>\n",
       "      <td>48.109760</td>\n",
       "      <td>420282</td>\n",
       "      <td>2</td>\n",
       "      <td>2</td>\n",
       "      <td>0</td>\n",
       "      <td>103</td>\n",
       "      <td>104</td>\n",
       "      <td>6</td>\n",
       "      <td>552</td>\n",
       "      <td>765</td>\n",
       "    </tr>\n",
       "    <tr>\n",
       "      <th>11</th>\n",
       "      <td>2015</td>\n",
       "      <td>87142109</td>\n",
       "      <td>Lorraine TGV</td>\n",
       "      <td>REGION LORRAINE</td>\n",
       "      <td>Moselle</td>\n",
       "      <td>57</td>\n",
       "      <td>57420</td>\n",
       "      <td>Louvigny</td>\n",
       "      <td>6.169838</td>\n",
       "      <td>48.947773</td>\n",
       "      <td>647339</td>\n",
       "      <td>3</td>\n",
       "      <td>2</td>\n",
       "      <td>1</td>\n",
       "      <td>699</td>\n",
       "      <td>654</td>\n",
       "      <td>48</td>\n",
       "      <td>2600</td>\n",
       "      <td>4001</td>\n",
       "    </tr>\n",
       "    <tr>\n",
       "      <th>12</th>\n",
       "      <td>2015</td>\n",
       "      <td>87142125</td>\n",
       "      <td>Culmont-Chalindrey</td>\n",
       "      <td>REGION LORRAINE</td>\n",
       "      <td>Haute-Marne</td>\n",
       "      <td>52</td>\n",
       "      <td>52600</td>\n",
       "      <td>Chalindrey</td>\n",
       "      <td>5.443222</td>\n",
       "      <td>47.810090</td>\n",
       "      <td>100673</td>\n",
       "      <td>1</td>\n",
       "      <td>3</td>\n",
       "      <td>0</td>\n",
       "      <td>38</td>\n",
       "      <td>114</td>\n",
       "      <td>4</td>\n",
       "      <td>471</td>\n",
       "      <td>627</td>\n",
       "    </tr>\n",
       "    <tr>\n",
       "      <th>13</th>\n",
       "      <td>2015</td>\n",
       "      <td>87144006</td>\n",
       "      <td>pinal</td>\n",
       "      <td>REGION LORRAINE</td>\n",
       "      <td>Vosges</td>\n",
       "      <td>88</td>\n",
       "      <td>88000</td>\n",
       "      <td>pinal</td>\n",
       "      <td>6.441787</td>\n",
       "      <td>48.178005</td>\n",
       "      <td>1143705</td>\n",
       "      <td>2</td>\n",
       "      <td>2</td>\n",
       "      <td>1</td>\n",
       "      <td>348</td>\n",
       "      <td>113</td>\n",
       "      <td>13</td>\n",
       "      <td>1371</td>\n",
       "      <td>1845</td>\n",
       "    </tr>\n",
       "    <tr>\n",
       "      <th>14</th>\n",
       "      <td>2015</td>\n",
       "      <td>87144014</td>\n",
       "      <td>Saint-Die-des-Vosges</td>\n",
       "      <td>REGION LORRAINE</td>\n",
       "      <td>Vosges</td>\n",
       "      <td>88</td>\n",
       "      <td>88100</td>\n",
       "      <td>Saint-Die-des-Vosges</td>\n",
       "      <td>6.948656</td>\n",
       "      <td>48.282225</td>\n",
       "      <td>405652</td>\n",
       "      <td>2</td>\n",
       "      <td>2</td>\n",
       "      <td>0</td>\n",
       "      <td>144</td>\n",
       "      <td>42</td>\n",
       "      <td>7</td>\n",
       "      <td>323</td>\n",
       "      <td>516</td>\n",
       "    </tr>\n",
       "    <tr>\n",
       "      <th>15</th>\n",
       "      <td>2015</td>\n",
       "      <td>87144055</td>\n",
       "      <td>Charmes</td>\n",
       "      <td>REGION LORRAINE</td>\n",
       "      <td>Vosges</td>\n",
       "      <td>88</td>\n",
       "      <td>88130</td>\n",
       "      <td>Charmes</td>\n",
       "      <td>6.301537</td>\n",
       "      <td>48.378483</td>\n",
       "      <td>288612</td>\n",
       "      <td>2</td>\n",
       "      <td>3</td>\n",
       "      <td>0</td>\n",
       "      <td>6</td>\n",
       "      <td>0</td>\n",
       "      <td>0</td>\n",
       "      <td>7</td>\n",
       "      <td>13</td>\n",
       "    </tr>\n",
       "    <tr>\n",
       "      <th>16</th>\n",
       "      <td>2015</td>\n",
       "      <td>87144279</td>\n",
       "      <td>Vittel</td>\n",
       "      <td>REGION LORRAINE</td>\n",
       "      <td>Vosges</td>\n",
       "      <td>88</td>\n",
       "      <td>88800</td>\n",
       "      <td>Vittel</td>\n",
       "      <td>5.941872</td>\n",
       "      <td>48.202488</td>\n",
       "      <td>66226</td>\n",
       "      <td>1</td>\n",
       "      <td>3</td>\n",
       "      <td>0</td>\n",
       "      <td>5</td>\n",
       "      <td>7</td>\n",
       "      <td>0</td>\n",
       "      <td>31</td>\n",
       "      <td>43</td>\n",
       "    </tr>\n",
       "    <tr>\n",
       "      <th>17</th>\n",
       "      <td>2015</td>\n",
       "      <td>87144451</td>\n",
       "      <td>Remiremont</td>\n",
       "      <td>REGION LORRAINE</td>\n",
       "      <td>Vosges</td>\n",
       "      <td>88</td>\n",
       "      <td>88200</td>\n",
       "      <td>Remiremont</td>\n",
       "      <td>6.598855</td>\n",
       "      <td>48.016363</td>\n",
       "      <td>266804</td>\n",
       "      <td>2</td>\n",
       "      <td>2</td>\n",
       "      <td>0</td>\n",
       "      <td>73</td>\n",
       "      <td>50</td>\n",
       "      <td>6</td>\n",
       "      <td>264</td>\n",
       "      <td>393</td>\n",
       "    </tr>\n",
       "    <tr>\n",
       "      <th>18</th>\n",
       "      <td>2015</td>\n",
       "      <td>87147322</td>\n",
       "      <td>Meuse TGV</td>\n",
       "      <td>REGION LORRAINE</td>\n",
       "      <td>Meuse</td>\n",
       "      <td>55</td>\n",
       "      <td>55220</td>\n",
       "      <td>Trois-Domaines</td>\n",
       "      <td>5.270954</td>\n",
       "      <td>48.978549</td>\n",
       "      <td>202506</td>\n",
       "      <td>3</td>\n",
       "      <td>2</td>\n",
       "      <td>1</td>\n",
       "      <td>94</td>\n",
       "      <td>75</td>\n",
       "      <td>0</td>\n",
       "      <td>416</td>\n",
       "      <td>585</td>\n",
       "    </tr>\n",
       "    <tr>\n",
       "      <th>19</th>\n",
       "      <td>2015</td>\n",
       "      <td>87171009</td>\n",
       "      <td>Reims</td>\n",
       "      <td>REGION CHAMPAGNE-ARDENNE</td>\n",
       "      <td>Marne</td>\n",
       "      <td>51</td>\n",
       "      <td>51100</td>\n",
       "      <td>Reims</td>\n",
       "      <td>4.024435</td>\n",
       "      <td>49.258978</td>\n",
       "      <td>3884021</td>\n",
       "      <td>3</td>\n",
       "      <td>2</td>\n",
       "      <td>1</td>\n",
       "      <td>750</td>\n",
       "      <td>408</td>\n",
       "      <td>29</td>\n",
       "      <td>3315</td>\n",
       "      <td>4502</td>\n",
       "    </tr>\n",
       "  </tbody>\n",
       "</table>\n",
       "</div>"
      ],
      "text/plain": [
       "    year station_code            station_name               region_sncf  \\\n",
       "0   2015     87111849  Marne-la-Vallee Chessy   REGION DE PARIS-SUD-EST   \n",
       "1   2015     87113001               Paris Est       REGION DE PARIS-EST   \n",
       "2   2015     87116582         Chateau-Thierry       REGION DE PARIS-EST   \n",
       "3   2015     87118000                  Troyes  REGION CHAMPAGNE-ARDENNE   \n",
       "4   2015     87118158       Romilly-sur-Seine       REGION DE PARIS-EST   \n",
       "5   2015     87141002                   Nancy           REGION LORRAINE   \n",
       "6   2015     87141044                    Toul           REGION LORRAINE   \n",
       "7   2015     87141150               Luneville           REGION LORRAINE   \n",
       "8   2015     87141291             Neufchateau           REGION LORRAINE   \n",
       "9   2015     87141820          Pont-a-Mousson           REGION LORRAINE   \n",
       "10  2015     87142000                Chaumont  REGION CHAMPAGNE-ARDENNE   \n",
       "11  2015     87142109            Lorraine TGV           REGION LORRAINE   \n",
       "12  2015     87142125      Culmont-Chalindrey           REGION LORRAINE   \n",
       "13  2015     87144006                  pinal           REGION LORRAINE   \n",
       "14  2015     87144014    Saint-Die-des-Vosges           REGION LORRAINE   \n",
       "15  2015     87144055                 Charmes           REGION LORRAINE   \n",
       "16  2015     87144279                  Vittel           REGION LORRAINE   \n",
       "17  2015     87144451              Remiremont           REGION LORRAINE   \n",
       "18  2015     87147322               Meuse TGV           REGION LORRAINE   \n",
       "19  2015     87171009                   Reims  REGION CHAMPAGNE-ARDENNE   \n",
       "\n",
       "           departement departement_code zip_code          municipality  \\\n",
       "0       Seine-et-Marne               77    77700                Chessy   \n",
       "1                Paris               75    75010                 Paris   \n",
       "2                Aisne               02    02400       Chateau-Thierry   \n",
       "3                 Aube               10    10014                Troyes   \n",
       "4                 Aube               10    10100     Romilly-sur-Seine   \n",
       "5   Meurthe-et-Moselle               54    54000                 Nancy   \n",
       "6   Meurthe-et-Moselle               54    54200                  Toul   \n",
       "7   Meurthe-et-Moselle               54    54300             Luneville   \n",
       "8               Vosges               88    88300           Neufchateau   \n",
       "9   Meurthe-et-Moselle               54    54700        Pont-a-Mousson   \n",
       "10         Haute-Marne               52    52000              Chaumont   \n",
       "11             Moselle               57    57420              Louvigny   \n",
       "12         Haute-Marne               52    52600            Chalindrey   \n",
       "13              Vosges               88    88000                pinal   \n",
       "14              Vosges               88    88100  Saint-Die-des-Vosges   \n",
       "15              Vosges               88    88130               Charmes   \n",
       "16              Vosges               88    88800                Vittel   \n",
       "17              Vosges               88    88200            Remiremont   \n",
       "18               Meuse               55    55220        Trois-Domaines   \n",
       "19               Marne               51    51100                 Reims   \n",
       "\n",
       "    longitude   latitude  total_passengers_over_the_year  station_category  \\\n",
       "0    2.782720  48.869856                         5443822                 3   \n",
       "1    2.358424  48.876742                        34919689                 3   \n",
       "2    3.409514  49.038224                         1924022                 2   \n",
       "3    4.065281  48.296069                         1001917                 3   \n",
       "4    3.728887  48.514433                          306218                 2   \n",
       "5    6.174583  48.689861                         7918088                 3   \n",
       "6    5.880615  48.679018                          232067                 2   \n",
       "7    6.497270  48.588233                          923786                 2   \n",
       "8    5.690402  48.358343                           80707                 1   \n",
       "9    6.050842  48.900580                          979424                 2   \n",
       "10   5.134600  48.109760                          420282                 2   \n",
       "11   6.169838  48.947773                          647339                 3   \n",
       "12   5.443222  47.810090                          100673                 1   \n",
       "13   6.441787  48.178005                         1143705                 2   \n",
       "14   6.948656  48.282225                          405652                 2   \n",
       "15   6.301537  48.378483                          288612                 2   \n",
       "16   5.941872  48.202488                           66226                 1   \n",
       "17   6.598855  48.016363                          266804                 2   \n",
       "18   5.270954  48.978549                          202506                 3   \n",
       "19   4.024435  49.258978                         3884021                 3   \n",
       "\n",
       "    service_level  wheelchair_available_in_station  simple_assistance  \\\n",
       "0               1                                1               3677   \n",
       "1               1                                1               3610   \n",
       "2               2                                1                 29   \n",
       "3               2                                1                 72   \n",
       "4               3                                0                 25   \n",
       "5               1                                1               3569   \n",
       "6               2                                0                430   \n",
       "7               2                                0                 87   \n",
       "8               3                                0                 13   \n",
       "9               3                                0                280   \n",
       "10              2                                0                103   \n",
       "11              2                                1                699   \n",
       "12              3                                0                 38   \n",
       "13              2                                1                348   \n",
       "14              2                                0                144   \n",
       "15              3                                0                  6   \n",
       "16              3                                0                  5   \n",
       "17              2                                0                 73   \n",
       "18              2                                1                 94   \n",
       "19              2                                1                750   \n",
       "\n",
       "    ramp_assistance  wheelchair_assistance  ramp_and_wheelchair_assistance  \\\n",
       "0              2081                     78                            9357   \n",
       "1              2946                    161                           11133   \n",
       "2                 5                      0                             149   \n",
       "3               145                      7                             518   \n",
       "4                45                      0                             113   \n",
       "5               968                     79                            8651   \n",
       "6                40                      7                             576   \n",
       "7                28                      3                             255   \n",
       "8                23                      0                             189   \n",
       "9                 5                      2                             367   \n",
       "10              104                      6                             552   \n",
       "11              654                     48                            2600   \n",
       "12              114                      4                             471   \n",
       "13              113                     13                            1371   \n",
       "14               42                      7                             323   \n",
       "15                0                      0                               7   \n",
       "16                7                      0                              31   \n",
       "17               50                      6                             264   \n",
       "18               75                      0                             416   \n",
       "19              408                     29                            3315   \n",
       "\n",
       "    total_assistance  \n",
       "0              15193  \n",
       "1              17850  \n",
       "2                183  \n",
       "3                742  \n",
       "4                183  \n",
       "5              13267  \n",
       "6               1053  \n",
       "7                373  \n",
       "8                225  \n",
       "9                654  \n",
       "10               765  \n",
       "11              4001  \n",
       "12               627  \n",
       "13              1845  \n",
       "14               516  \n",
       "15                13  \n",
       "16                43  \n",
       "17               393  \n",
       "18               585  \n",
       "19              4502  "
      ]
     },
     "execution_count": 5,
     "metadata": {},
     "output_type": "execute_result"
    }
   ],
   "source": [
    "df.head(20)"
   ]
  },
  {
   "cell_type": "code",
   "execution_count": 6,
   "metadata": {
    "scrolled": true
   },
   "outputs": [
    {
     "data": {
      "text/plain": [
       "(5409, 19)"
      ]
     },
     "execution_count": 6,
     "metadata": {},
     "output_type": "execute_result"
    }
   ],
   "source": [
    "df.shape"
   ]
  },
  {
   "cell_type": "markdown",
   "metadata": {},
   "source": [
    "##### Missing values"
   ]
  },
  {
   "cell_type": "code",
   "execution_count": 7,
   "metadata": {},
   "outputs": [
    {
     "data": {
      "text/plain": [
       "year                               0\n",
       "station_code                       0\n",
       "station_name                       0\n",
       "region_sncf                        0\n",
       "departement                        0\n",
       "departement_code                   0\n",
       "zip_code                           0\n",
       "municipality                       0\n",
       "longitude                          0\n",
       "latitude                           0\n",
       "total_passengers_over_the_year     0\n",
       "station_category                   0\n",
       "service_level                      0\n",
       "wheelchair_available_in_station    0\n",
       "simple_assistance                  0\n",
       "ramp_assistance                    0\n",
       "wheelchair_assistance              0\n",
       "ramp_and_wheelchair_assistance     0\n",
       "total_assistance                   0\n",
       "dtype: int64"
      ]
     },
     "execution_count": 7,
     "metadata": {},
     "output_type": "execute_result"
    }
   ],
   "source": [
    "# Check for missing values\n",
    "\n",
    "df.isnull().sum()\n",
    "\n",
    "# No missing values to handle"
   ]
  },
  {
   "cell_type": "markdown",
   "metadata": {},
   "source": [
    "##### Duplicates check"
   ]
  },
  {
   "cell_type": "code",
   "execution_count": 8,
   "metadata": {},
   "outputs": [],
   "source": [
    "dups = df.duplicated()"
   ]
  },
  {
   "cell_type": "code",
   "execution_count": 9,
   "metadata": {},
   "outputs": [
    {
     "data": {
      "text/plain": [
       "(5409,)"
      ]
     },
     "execution_count": 9,
     "metadata": {},
     "output_type": "execute_result"
    }
   ],
   "source": [
    "dups.shape # No dups"
   ]
  },
  {
   "cell_type": "markdown",
   "metadata": {},
   "source": [
    "##### Extreme values checks"
   ]
  },
  {
   "cell_type": "code",
   "execution_count": 10,
   "metadata": {},
   "outputs": [
    {
     "name": "stderr",
     "output_type": "stream",
     "text": [
      "/var/folders/dt/sqcrp8bd1cx8p99whrf_c9wr0000gn/T/ipykernel_54516/1146993270.py:1: UserWarning: \n",
      "\n",
      "`distplot` is a deprecated function and will be removed in seaborn v0.14.0.\n",
      "\n",
      "Please adapt your code to use either `displot` (a figure-level function with\n",
      "similar flexibility) or `histplot` (an axes-level function for histograms).\n",
      "\n",
      "For a guide to updating your code to use the new functions, please see\n",
      "https://gist.github.com/mwaskom/de44147ed2974457ad6372750bbe5751\n",
      "\n",
      "  sns.distplot(df['total_assistance'], bins=25) # Shows extreme values\n",
      "/Users/jorisjan/anaconda3/lib/python3.11/site-packages/seaborn/_oldcore.py:1119: FutureWarning: use_inf_as_na option is deprecated and will be removed in a future version. Convert inf values to NaN before operating instead.\n",
      "  with pd.option_context('mode.use_inf_as_na', True):\n"
     ]
    },
    {
     "data": {
      "text/plain": [
       "<Axes: xlabel='total_assistance', ylabel='Density'>"
      ]
     },
     "execution_count": 10,
     "metadata": {},
     "output_type": "execute_result"
    },
    {
     "data": {
      "image/png": "[encoded data removed]",
      "text/plain": [
       "<Figure size 640x480 with 1 Axes>"
      ]
     },
     "metadata": {},
     "output_type": "display_data"
    }
   ],
   "source": [
    "sns.distplot(df['total_assistance'], bins=25) # Shows extreme values\n",
    "\n",
    "# Some of the outliers in the high values may need to be removed, but let's try without doing so first."
   ]
  },
  {
   "cell_type": "code",
   "execution_count": 11,
   "metadata": {},
   "outputs": [
    {
     "data": {
      "text/plain": [
       "1265.763172490294"
      ]
     },
     "execution_count": 11,
     "metadata": {},
     "output_type": "execute_result"
    }
   ],
   "source": [
    "df['total_assistance'].mean() # Check the mean"
   ]
  },
  {
   "cell_type": "code",
   "execution_count": 12,
   "metadata": {},
   "outputs": [
    {
     "data": {
      "text/plain": [
       "66.0"
      ]
     },
     "execution_count": 12,
     "metadata": {},
     "output_type": "execute_result"
    }
   ],
   "source": [
    "df['total_assistance'].median() # Check the median"
   ]
  },
  {
   "cell_type": "code",
   "execution_count": 13,
   "metadata": {},
   "outputs": [
    {
     "data": {
      "text/plain": [
       "108406"
      ]
     },
     "execution_count": 13,
     "metadata": {},
     "output_type": "execute_result"
    }
   ],
   "source": [
    "df['total_assistance'].max() # Check the max"
   ]
  },
  {
   "cell_type": "markdown",
   "metadata": {},
   "source": [
    "### 3. Data prep for regression analysis "
   ]
  },
  {
   "cell_type": "code",
   "execution_count": 1,
   "metadata": {},
   "outputs": [
    {
     "ename": "NameError",
     "evalue": "name 'df' is not defined",
     "output_type": "error",
     "traceback": [
      "\u001b[0;31m---------------------------------------------------------------------------\u001b[0m",
      "\u001b[0;31mNameError\u001b[0m                                 Traceback (most recent call last)",
      "Cell \u001b[0;32mIn[1], line 3\u001b[0m\n\u001b[1;32m      1\u001b[0m \u001b[38;5;66;03m# Create a scatterplot using matplotlib for another look at how the chosen variables plot against each other.\u001b[39;00m\n\u001b[0;32m----> 3\u001b[0m df\u001b[38;5;241m.\u001b[39mplot(x \u001b[38;5;241m=\u001b[39m \u001b[38;5;124m'\u001b[39m\u001b[38;5;124mtotal_passengers_over_the_year\u001b[39m\u001b[38;5;124m'\u001b[39m, y\u001b[38;5;241m=\u001b[39m\u001b[38;5;124m'\u001b[39m\u001b[38;5;124mtotal_assistance\u001b[39m\u001b[38;5;124m'\u001b[39m,style\u001b[38;5;241m=\u001b[39m\u001b[38;5;124m'\u001b[39m\u001b[38;5;124mo\u001b[39m\u001b[38;5;124m'\u001b[39m) \u001b[38;5;66;03m# The style option creates a scatterplot; without it, we only have lines.\u001b[39;00m\n\u001b[1;32m      4\u001b[0m plt\u001b[38;5;241m.\u001b[39mtitle(\u001b[38;5;124m'\u001b[39m\u001b[38;5;124mtotal_passengers_over_the_year vs total_assistance\u001b[39m\u001b[38;5;124m'\u001b[39m)  \n\u001b[1;32m      5\u001b[0m plt\u001b[38;5;241m.\u001b[39mxlabel(\u001b[38;5;124m'\u001b[39m\u001b[38;5;124mtotal_passengers_over_the_year\u001b[39m\u001b[38;5;124m'\u001b[39m)  \n",
      "\u001b[0;31mNameError\u001b[0m: name 'df' is not defined"
     ]
    }
   ],
   "source": [
    "# Create a scatterplot using matplotlib for another look at how the chosen variables plot against each other.\n",
    "\n",
    "df.plot(x = 'total_assistance', y='ramp_assistance',style='o') # The style option creates a scatterplot; without it, we only have lines.\n",
    "plt.title('total_assistance vs ramp_assistance')  \n",
    "plt.xlabel('total_assistance')  \n",
    "plt.ylabel('ramp_assistance')  \n",
    "plt.show()"
   ]
  },
  {
   "cell_type": "markdown",
   "metadata": {},
   "source": [
    "Hypothesis:\n",
    "There is a strong positive linear relationship between the number of ramp assistance services provided and the total number of assistance services at a station. In other words, as the provision of ramp assistance increases, the total assistance provided also increases proportionally.\n",
    "\n",
    "This hypothesis is supported by the tight clustering of data points along a line in the scatterplot, which suggests that 'ramp_assistance' is a significant predictor of 'total_assistance'. The presence of a line of best fit, if it has been calculated as part of a regression analysis, would further suggest that this relationship can be modeled mathematically, indicating a potential causal relationship where improvements in 'ramp_assistance' services could lead to an overall increase in the 'total_assistance' services provided at a station."
   ]
  },
  {
   "cell_type": "code",
   "execution_count": 34,
   "metadata": {},
   "outputs": [],
   "source": [
    "# Reshape the variables into NumPy arrays and put them into separate objects.\n",
    "X = df['total_assistance'].values.reshape(-1,1)\n",
    "y = df['ramp_assistance'].values.reshape(-1,1)"
   ]
  },
  {
   "cell_type": "code",
   "execution_count": 35,
   "metadata": {},
   "outputs": [
    {
     "data": {
      "text/plain": [
       "array([[15193],\n",
       "       [17850],\n",
       "       [  183],\n",
       "       ...,\n",
       "       [    3],\n",
       "       [  558],\n",
       "       [    1]])"
      ]
     },
     "execution_count": 35,
     "metadata": {},
     "output_type": "execute_result"
    }
   ],
   "source": [
    "X"
   ]
  },
  {
   "cell_type": "code",
   "execution_count": 36,
   "metadata": {},
   "outputs": [
    {
     "data": {
      "text/plain": [
       "array([[2081],\n",
       "       [2946],\n",
       "       [   5],\n",
       "       ...,\n",
       "       [   2],\n",
       "       [ 109],\n",
       "       [   0]])"
      ]
     },
     "execution_count": 36,
     "metadata": {},
     "output_type": "execute_result"
    }
   ],
   "source": [
    "y"
   ]
  },
  {
   "cell_type": "code",
   "execution_count": 37,
   "metadata": {
    "scrolled": true
   },
   "outputs": [],
   "source": [
    "# Split data into a training set and a test set.\n",
    "X_train, X_test, y_train, y_test = train_test_split(X, y, test_size=0.3, random_state=0)"
   ]
  },
  {
   "cell_type": "markdown",
   "metadata": {},
   "source": [
    "### 4. Regression analysis"
   ]
  },
  {
   "cell_type": "code",
   "execution_count": 38,
   "metadata": {},
   "outputs": [],
   "source": [
    "# Create a regression object.\n",
    "regression = LinearRegression()  # This is the regression object, which will be fit onto the training set."
   ]
  },
  {
   "cell_type": "code",
   "execution_count": 39,
   "metadata": {},
   "outputs": [
    {
     "data": {
      "text/html": [
       "<style>#sk-container-id-2 {color: black;}#sk-container-id-2 pre{padding: 0;}#sk-container-id-2 div.sk-toggleable {background-color: white;}#sk-container-id-2 label.sk-toggleable__label {cursor: pointer;display: block;width: 100%;margin-bottom: 0;padding: 0.3em;box-sizing: border-box;text-align: center;}#sk-container-id-2 label.sk-toggleable__label-arrow:before {content: \"▸\";float: left;margin-right: 0.25em;color: #696969;}#sk-container-id-2 label.sk-toggleable__label-arrow:hover:before {color: black;}#sk-container-id-2 div.sk-estimator:hover label.sk-toggleable__label-arrow:before {color: black;}#sk-container-id-2 div.sk-toggleable__content {max-height: 0;max-width: 0;overflow: hidden;text-align: left;background-color: #f0f8ff;}#sk-container-id-2 div.sk-toggleable__content pre {margin: 0.2em;color: black;border-radius: 0.25em;background-color: #f0f8ff;}#sk-container-id-2 input.sk-toggleable__control:checked~div.sk-toggleable__content {max-height: 200px;max-width: 100%;overflow: auto;}#sk-container-id-2 input.sk-toggleable__control:checked~label.sk-toggleable__label-arrow:before {content: \"▾\";}#sk-container-id-2 div.sk-estimator input.sk-toggleable__control:checked~label.sk-toggleable__label {background-color: #d4ebff;}#sk-container-id-2 div.sk-label input.sk-toggleable__control:checked~label.sk-toggleable__label {background-color: #d4ebff;}#sk-container-id-2 input.sk-hidden--visually {border: 0;clip: rect(1px 1px 1px 1px);clip: rect(1px, 1px, 1px, 1px);height: 1px;margin: -1px;overflow: hidden;padding: 0;position: absolute;width: 1px;}#sk-container-id-2 div.sk-estimator {font-family: monospace;background-color: #f0f8ff;border: 1px dotted black;border-radius: 0.25em;box-sizing: border-box;margin-bottom: 0.5em;}#sk-container-id-2 div.sk-estimator:hover {background-color: #d4ebff;}#sk-container-id-2 div.sk-parallel-item::after {content: \"\";width: 100%;border-bottom: 1px solid gray;flex-grow: 1;}#sk-container-id-2 div.sk-label:hover label.sk-toggleable__label {background-color: #d4ebff;}#sk-container-id-2 div.sk-serial::before {content: \"\";position: absolute;border-left: 1px solid gray;box-sizing: border-box;top: 0;bottom: 0;left: 50%;z-index: 0;}#sk-container-id-2 div.sk-serial {display: flex;flex-direction: column;align-items: center;background-color: white;padding-right: 0.2em;padding-left: 0.2em;position: relative;}#sk-container-id-2 div.sk-item {position: relative;z-index: 1;}#sk-container-id-2 div.sk-parallel {display: flex;align-items: stretch;justify-content: center;background-color: white;position: relative;}#sk-container-id-2 div.sk-item::before, #sk-container-id-2 div.sk-parallel-item::before {content: \"\";position: absolute;border-left: 1px solid gray;box-sizing: border-box;top: 0;bottom: 0;left: 50%;z-index: -1;}#sk-container-id-2 div.sk-parallel-item {display: flex;flex-direction: column;z-index: 1;position: relative;background-color: white;}#sk-container-id-2 div.sk-parallel-item:first-child::after {align-self: flex-end;width: 50%;}#sk-container-id-2 div.sk-parallel-item:last-child::after {align-self: flex-start;width: 50%;}#sk-container-id-2 div.sk-parallel-item:only-child::after {width: 0;}#sk-container-id-2 div.sk-dashed-wrapped {border: 1px dashed gray;margin: 0 0.4em 0.5em 0.4em;box-sizing: border-box;padding-bottom: 0.4em;background-color: white;}#sk-container-id-2 div.sk-label label {font-family: monospace;font-weight: bold;display: inline-block;line-height: 1.2em;}#sk-container-id-2 div.sk-label-container {text-align: center;}#sk-container-id-2 div.sk-container {/* jupyter's `normalize.less` sets `[hidden] { display: none; }` but bootstrap.min.css set `[hidden] { display: none !important; }` so we also need the `!important` here to be able to override the default hidden behavior on the sphinx rendered scikit-learn.org. See: https://github.com/scikit-learn/scikit-learn/issues/21755 */display: inline-block !important;position: relative;}#sk-container-id-2 div.sk-text-repr-fallback {display: none;}</style><div id=\"sk-container-id-2\" class=\"sk-top-container\"><div class=\"sk-text-repr-fallback\"><pre>LinearRegression()</pre><b>In a Jupyter environment, please rerun this cell to show the HTML representation or trust the notebook. <br />On GitHub, the HTML representation is unable to render, please try loading this page with nbviewer.org.</b></div><div class=\"sk-container\" hidden><div class=\"sk-item\"><div class=\"sk-estimator sk-toggleable\"><input class=\"sk-toggleable__control sk-hidden--visually\" id=\"sk-estimator-id-2\" type=\"checkbox\" checked><label for=\"sk-estimator-id-2\" class=\"sk-toggleable__label sk-toggleable__label-arrow\">LinearRegression</label><div class=\"sk-toggleable__content\"><pre>LinearRegression()</pre></div></div></div></div></div>"
      ],
      "text/plain": [
       "LinearRegression()"
      ]
     },
     "execution_count": 39,
     "metadata": {},
     "output_type": "execute_result"
    }
   ],
   "source": [
    "# Fit the regression object onto the training set.\n",
    "regression.fit(X_train, y_train)"
   ]
  },
  {
   "cell_type": "code",
   "execution_count": 40,
   "metadata": {},
   "outputs": [],
   "source": [
    "# Predict the values of y using X.\n",
    "y_predicted = regression.predict(X_test)"
   ]
  },
  {
   "cell_type": "code",
   "execution_count": 41,
   "metadata": {},
   "outputs": [
    {
     "data": {
      "image/png": "[encoded data removed]",
      "text/plain": [
       "<Figure size 640x480 with 1 Axes>"
      ]
     },
     "metadata": {},
     "output_type": "display_data"
    }
   ],
   "source": [
    "# Create a plot that shows the regression line from the model on the test set.\n",
    "\n",
    "plot_test = plt\n",
    "plot_test.scatter(X_test, y_test, color='gray', s = 15)\n",
    "plot_test.plot(X_test, y_predicted, color='red', linewidth =3)\n",
    "plot_test.title('total_assistance vs ramp_assistance (Test set)')\n",
    "plot_test.xlabel('total_assistance')\n",
    "plot_test.ylabel('ramp_assistance')\n",
    "plot_test.show()"
   ]
  },
  {
   "cell_type": "markdown",
   "metadata": {},
   "source": [
    "As 'total_assistance' increases, the data points tend to spread out more around the regression line, and the prediction errors seem to increase. This is indicated by the distance of the points from the line, which becomes more variable for higher values of 'total_assistance'.\n",
    "\n",
    "The regression line appears to be a good fit for the lower and mid-range of the data but less so at the upper end. This could mean that the linear model may need to be adjusted or that a non-linear model might be more appropriate for capturing the relationship between 'total_assistance' and 'ramp_assistance' across the full range of data."
   ]
  },
  {
   "cell_type": "code",
   "execution_count": 42,
   "metadata": {},
   "outputs": [],
   "source": [
    "# Create objects that contain the model summary statistics.\n",
    "rmse = mean_squared_error(y_test, y_predicted) # This is the mean squared error\n",
    "r2 = r2_score(y_test, y_predicted) # This is the R2 score. "
   ]
  },
  {
   "cell_type": "code",
   "execution_count": 43,
   "metadata": {},
   "outputs": [
    {
     "name": "stdout",
     "output_type": "stream",
     "text": [
      "Slope: [[0.20623794]]\n",
      "Mean squared error:  86050.82568246646\n",
      "R2 score:  0.9334280751594544\n"
     ]
    }
   ],
   "source": [
    "# Print the model summary statistics. This is where you evaluate the performance of the model.\n",
    "print('Slope:' ,regression.coef_)\n",
    "print('Mean squared error: ', rmse)\n",
    "print('R2 score: ', r2)"
   ]
  },
  {
   "cell_type": "markdown",
   "metadata": {},
   "source": [
    "**Slope:**\n",
    "The slope of the regression line is approximately 0.206, which means for every unit increase in 'total_assistance', 'ramp_assistance' increases by 0.206 units, on average\n",
    "\n",
    "**Mean Squared Error (MSE):**\n",
    "The MSE of the model is 86050.83, this high value of MSE suggests that there is a significant variation in the data that the model is not capturing.\n",
    "\n",
    "**R² Score:**\n",
    "The R² score is approximately 0.933, which is very close to 1. This score indicates the proportion of the variance in the dependent variable that is predictable from the independent variable(s). An R² score of 0.933 means that approximately 93.3% of the variance in 'ramp_assistance' is predictable from 'total_assistance'."
   ]
  },
  {
   "cell_type": "code",
   "execution_count": 44,
   "metadata": {},
   "outputs": [
    {
     "data": {
      "text/plain": [
       "array([[-7.0413098 ],\n",
       "       [-9.9286409 ],\n",
       "       [-5.18516838],\n",
       "       ...,\n",
       "       [-4.1539787 ],\n",
       "       [-4.1539787 ],\n",
       "       [11.5201044 ]])"
      ]
     },
     "execution_count": 44,
     "metadata": {},
     "output_type": "execute_result"
    }
   ],
   "source": [
    "y_predicted"
   ]
  },
  {
   "cell_type": "code",
   "execution_count": 45,
   "metadata": {
    "scrolled": true
   },
   "outputs": [
    {
     "data": {
      "text/html": [
       "<div>\n",
       "<style scoped>\n",
       "    .dataframe tbody tr th:only-of-type {\n",
       "        vertical-align: middle;\n",
       "    }\n",
       "\n",
       "    .dataframe tbody tr th {\n",
       "        vertical-align: top;\n",
       "    }\n",
       "\n",
       "    .dataframe thead th {\n",
       "        text-align: right;\n",
       "    }\n",
       "</style>\n",
       "<table border=\"1\" class=\"dataframe\">\n",
       "  <thead>\n",
       "    <tr style=\"text-align: right;\">\n",
       "      <th></th>\n",
       "      <th>Actual</th>\n",
       "      <th>Predicted</th>\n",
       "    </tr>\n",
       "  </thead>\n",
       "  <tbody>\n",
       "    <tr>\n",
       "      <th>0</th>\n",
       "      <td>0</td>\n",
       "      <td>-7.041310</td>\n",
       "    </tr>\n",
       "    <tr>\n",
       "      <th>1</th>\n",
       "      <td>0</td>\n",
       "      <td>-9.928641</td>\n",
       "    </tr>\n",
       "    <tr>\n",
       "      <th>2</th>\n",
       "      <td>23</td>\n",
       "      <td>-5.185168</td>\n",
       "    </tr>\n",
       "    <tr>\n",
       "      <th>3</th>\n",
       "      <td>68</td>\n",
       "      <td>11.520104</td>\n",
       "    </tr>\n",
       "    <tr>\n",
       "      <th>4</th>\n",
       "      <td>0</td>\n",
       "      <td>-9.309927</td>\n",
       "    </tr>\n",
       "    <tr>\n",
       "      <th>5</th>\n",
       "      <td>63</td>\n",
       "      <td>36.268657</td>\n",
       "    </tr>\n",
       "    <tr>\n",
       "      <th>6</th>\n",
       "      <td>146</td>\n",
       "      <td>170.529553</td>\n",
       "    </tr>\n",
       "    <tr>\n",
       "      <th>7</th>\n",
       "      <td>59</td>\n",
       "      <td>51.736502</td>\n",
       "    </tr>\n",
       "    <tr>\n",
       "      <th>8</th>\n",
       "      <td>0</td>\n",
       "      <td>-9.928641</td>\n",
       "    </tr>\n",
       "    <tr>\n",
       "      <th>9</th>\n",
       "      <td>27</td>\n",
       "      <td>2.033159</td>\n",
       "    </tr>\n",
       "    <tr>\n",
       "      <th>10</th>\n",
       "      <td>0</td>\n",
       "      <td>-9.928641</td>\n",
       "    </tr>\n",
       "    <tr>\n",
       "      <th>11</th>\n",
       "      <td>837</td>\n",
       "      <td>1708.858314</td>\n",
       "    </tr>\n",
       "    <tr>\n",
       "      <th>12</th>\n",
       "      <td>6</td>\n",
       "      <td>-7.660024</td>\n",
       "    </tr>\n",
       "    <tr>\n",
       "      <th>13</th>\n",
       "      <td>16</td>\n",
       "      <td>35.031229</td>\n",
       "    </tr>\n",
       "    <tr>\n",
       "      <th>14</th>\n",
       "      <td>0</td>\n",
       "      <td>-9.722403</td>\n",
       "    </tr>\n",
       "    <tr>\n",
       "      <th>15</th>\n",
       "      <td>7</td>\n",
       "      <td>4.301777</td>\n",
       "    </tr>\n",
       "    <tr>\n",
       "      <th>16</th>\n",
       "      <td>0</td>\n",
       "      <td>-9.309927</td>\n",
       "    </tr>\n",
       "    <tr>\n",
       "      <th>17</th>\n",
       "      <td>1</td>\n",
       "      <td>-9.516165</td>\n",
       "    </tr>\n",
       "    <tr>\n",
       "      <th>18</th>\n",
       "      <td>489</td>\n",
       "      <td>263.749100</td>\n",
       "    </tr>\n",
       "    <tr>\n",
       "      <th>19</th>\n",
       "      <td>0</td>\n",
       "      <td>-8.897451</td>\n",
       "    </tr>\n",
       "    <tr>\n",
       "      <th>20</th>\n",
       "      <td>0</td>\n",
       "      <td>-9.928641</td>\n",
       "    </tr>\n",
       "    <tr>\n",
       "      <th>21</th>\n",
       "      <td>202</td>\n",
       "      <td>33.175088</td>\n",
       "    </tr>\n",
       "    <tr>\n",
       "      <th>22</th>\n",
       "      <td>89</td>\n",
       "      <td>65.554444</td>\n",
       "    </tr>\n",
       "    <tr>\n",
       "      <th>23</th>\n",
       "      <td>0</td>\n",
       "      <td>-8.278737</td>\n",
       "    </tr>\n",
       "    <tr>\n",
       "      <th>24</th>\n",
       "      <td>0</td>\n",
       "      <td>-7.247548</td>\n",
       "    </tr>\n",
       "    <tr>\n",
       "      <th>25</th>\n",
       "      <td>0</td>\n",
       "      <td>-9.928641</td>\n",
       "    </tr>\n",
       "    <tr>\n",
       "      <th>26</th>\n",
       "      <td>0</td>\n",
       "      <td>-9.928641</td>\n",
       "    </tr>\n",
       "    <tr>\n",
       "      <th>27</th>\n",
       "      <td>146</td>\n",
       "      <td>233.638361</td>\n",
       "    </tr>\n",
       "    <tr>\n",
       "      <th>28</th>\n",
       "      <td>2</td>\n",
       "      <td>-9.516165</td>\n",
       "    </tr>\n",
       "    <tr>\n",
       "      <th>29</th>\n",
       "      <td>384</td>\n",
       "      <td>241.062927</td>\n",
       "    </tr>\n",
       "  </tbody>\n",
       "</table>\n",
       "</div>"
      ],
      "text/plain": [
       "    Actual    Predicted\n",
       "0        0    -7.041310\n",
       "1        0    -9.928641\n",
       "2       23    -5.185168\n",
       "3       68    11.520104\n",
       "4        0    -9.309927\n",
       "5       63    36.268657\n",
       "6      146   170.529553\n",
       "7       59    51.736502\n",
       "8        0    -9.928641\n",
       "9       27     2.033159\n",
       "10       0    -9.928641\n",
       "11     837  1708.858314\n",
       "12       6    -7.660024\n",
       "13      16    35.031229\n",
       "14       0    -9.722403\n",
       "15       7     4.301777\n",
       "16       0    -9.309927\n",
       "17       1    -9.516165\n",
       "18     489   263.749100\n",
       "19       0    -8.897451\n",
       "20       0    -9.928641\n",
       "21     202    33.175088\n",
       "22      89    65.554444\n",
       "23       0    -8.278737\n",
       "24       0    -7.247548\n",
       "25       0    -9.928641\n",
       "26       0    -9.928641\n",
       "27     146   233.638361\n",
       "28       2    -9.516165\n",
       "29     384   241.062927"
      ]
     },
     "execution_count": 45,
     "metadata": {},
     "output_type": "execute_result"
    }
   ],
   "source": [
    "# Create a dataframe comparing the actual and predicted values of y.\n",
    "data = pd.DataFrame({'Actual': y_test.flatten(), 'Predicted': y_predicted.flatten()})\n",
    "data.head(30)"
   ]
  },
  {
   "cell_type": "markdown",
   "metadata": {},
   "source": [
    "* In cases where the actual value is 0 (rows 0, 1, 4, 8, 10, etc.), the model predicts negative values, which may not be meaningful in the real-world context if the 'y' values are counts that cannot be negative (e.g., number of assistance services).\n",
    "* For some rows (e.g., row 11 with an actual value of 837), the predicted value is significantly higher (1708.85), indicating overestimation by the model.\n",
    "* For other rows (e.g., row 2 with an actual value of 23), the predicted value is an underestimation (-5.82).\n",
    "* There are instances where the model predicts values fairly close to the actual numbers (e.g., row 7 with an actual value of 59 and a predicted value of 51.74).\n",
    "\n",
    "The discrepancies between actual and predicted values could contribute to the Mean Squared Error (MSE) discussed earlier. Specifically, the negative predictions when the actual value is zero will significantly impact the MSE, as the squared errors for these predictions will be relatively large compared to the actual values.\n",
    "\n",
    "Overall, while the model seems to capture the trend in the data, as indicated by the high R² score, there are individual predictions where the model is not accurate. This could be due to outliers, non-linear relationships, or other factors not accounted for in the model."
   ]
  },
  {
   "cell_type": "code",
   "execution_count": 46,
   "metadata": {},
   "outputs": [],
   "source": [
    "# Predict.\n",
    "y_predicted_train = regression.predict(X_train) # This is predicting X_train!"
   ]
  },
  {
   "cell_type": "code",
   "execution_count": 47,
   "metadata": {},
   "outputs": [],
   "source": [
    "rmse = mean_squared_error(y_train, y_predicted_train)\n",
    "r2 = r2_score(y_train, y_predicted_train)"
   ]
  },
  {
   "cell_type": "code",
   "execution_count": 48,
   "metadata": {},
   "outputs": [
    {
     "name": "stdout",
     "output_type": "stream",
     "text": [
      "Slope: [[0.20623794]]\n",
      "Mean squared error:  74152.37530717856\n",
      "R2 score:  0.9382790404103666\n"
     ]
    }
   ],
   "source": [
    "print('Slope:' ,regression.coef_)\n",
    "print('Mean squared error: ', rmse)\n",
    "print('R2 score: ', r2)"
   ]
  },
  {
   "cell_type": "code",
   "execution_count": 49,
   "metadata": {},
   "outputs": [
    {
     "data": {
      "image/png": "[encoded data removed]",
      "text/plain": [
       "<Figure size 640x480 with 1 Axes>"
      ]
     },
     "metadata": {},
     "output_type": "display_data"
    }
   ],
   "source": [
    "# Visualizing the training set results.\n",
    "\n",
    "plot_test = plt\n",
    "plot_test.scatter(X_train, y_train, color='green', s = 15)\n",
    "plot_test.plot(X_train, y_predicted_train, color='red', linewidth =3)\n",
    "plot_test.title('total_assistance vs ramp_assistance (Train set)')\n",
    "plot_test.xlabel('total_assistance')\n",
    "plot_test.ylabel('ramp_assistance')\n",
    "plot_test.show()"
   ]
  },
  {
   "cell_type": "markdown",
   "metadata": {},
   "source": [
    "The regression line seems to fit the training set data quite well. The points are closely clustered around the line, which indicates that the model's predictions are generally in line with the actual values for this set.\n",
    "The points do not appear to show the same level of spread as we move along the x-axis as was noted in the test set. This consistency suggests the model has learned the patterns from the training data effectively.\n",
    "\n",
    "removing outliers is not a suitable approach for this context since it would ignore the most important stations in the country. The model needs to be able to generalize across all stations, which may require exploring more sophisticated modeling techniques that can handle the increased complexity and variability associated with the busiest stations in urban areas, especially in Paris. The goal should be to create a model that provides accurate predictions across the full spectrum of stations, from the smallest to the largest, accounting for the unique challenges presented by high-traffic environments."
   ]
  }
 ],
 "metadata": {
  "kernelspec": {
   "display_name": "Python 3 (ipykernel)",
   "language": "python",
   "name": "python3"
  },
  "language_info": {
   "codemirror_mode": {
    "name": "ipython",
    "version": 3
   },
   "file_extension": ".py",
   "mimetype": "text/x-python",
   "name": "python",
   "nbconvert_exporter": "python",
   "pygments_lexer": "ipython3",
   "version": "3.11.5"
  }
 },
 "nbformat": 4,
 "nbformat_minor": 4
}
